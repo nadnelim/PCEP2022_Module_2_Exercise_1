{
 "cells": [
  {
   "cell_type": "markdown",
   "metadata": {},
   "source": [
    "## Exercises\n",
    "### Write the pseudocode for these problems. \n",
    "\n",
    "#### Define the problem by constructing an IPO diagram showing input, output, and processing steps\n",
    "Ask yourself\n",
    "- What control structures (sequence, selection and repetition) are required?\n",
    "- What variables are required?\n",
    "\n",
    "Show a check of your solution with **test data** for at least **two valid test cases**\n",
    "If you use the numbers provided in the example then the correct pseudocode will calculate the same result.\n",
    "    "
   ]
  },
  {
   "cell_type": "markdown",
   "metadata": {},
   "source": [
    "#### 1. Find the average score\n",
    "A program is needed to prompt the user operator for exam scores, calculate the average score and display the result to the screen. The average score is calculated as the sum of the scores divided by the number of scores."
   ]
  },
  {
   "cell_type": "markdown",
   "metadata": {},
   "source": [
    "BEGIN\n",
    "\n",
    "  Prompt user for exam score\n",
    "  \n",
    "    Get Exam Score 1\n",
    "    \n",
    "  Prompt user for exam score\n",
    "  \n",
    "    Get Exam Score 2\n",
    "    \n",
    "  Prompt user for exam score\n",
    "  \n",
    "    Get Exam Score 3\n",
    "    .\n",
    "    .\n",
    "    .\n",
    "  Prompt user for exam score\n",
    "  \n",
    "    Get Exam Score n\n",
    "    \n",
    "  Calculate the average\n",
    "  \n",
    "    Average = (Exam score 1 + Exam score 2 + Exam score 3 + ... + Exam score n)/n\n",
    "    \n",
    "    Print Average\n",
    "    \n",
    "END"
   ]
  },
  {
   "cell_type": "markdown",
   "metadata": {},
   "source": [
    "#### 2. How much water runs off a roof in a rain storm?\n",
    "To calculate the runoff from any given rainfall: Take the dimensions of the footprint of the roof and convert them to inches. (So, a 50' x 20' roof is 600\" x 240\"). Multiply the roof dimensions by the number of inches of rainfall. As an example, 600\" x 240\" x 1\" = 144,000 cubic inches of water for an inch of rainfall. Divide that result by 231 to get the number of gallons (because 1 gallon = 231 cubic inches). (144,000/231 = 623.38)."
   ]
  },
  {
   "cell_type": "code",
   "execution_count": 3,
   "metadata": {},
   "outputs": [
    {
     "ename": "IndentationError",
     "evalue": "unexpected indent (1022757320.py, line 2)",
     "output_type": "error",
     "traceback": [
      "\u001b[0;36m  Input \u001b[0;32mIn [3]\u001b[0;36m\u001b[0m\n\u001b[0;31m    PROMPT USER INCHES OF RAINFALL\u001b[0m\n\u001b[0m    ^\u001b[0m\n\u001b[0;31mIndentationError\u001b[0m\u001b[0;31m:\u001b[0m unexpected indent\n"
     ]
    }
   ],
   "source": [
    "BEGIN\n",
    "\n",
    "    PROMPT USER INCHES OF RAINFALL\n",
    "    \n",
    "    GET RAINFALL\n",
    "    \n",
    "    PROMPT USER THE WIDTH OF THE ROOF(W)\n",
    "    \n",
    "    CONVERT TO INCHES(W\") = W * 0.0833\n",
    "                      \n",
    "    PROMPT USER THE LENGTH OF THE ROOF(L)\n",
    "                      \n",
    "    CONVERT TO INCHES(L\") = L * 0.0833\n",
    "                      \n",
    "    CALCULATE RUNOFF = RAINFALL * W\" * L\"\n",
    "                      \n",
    "    PRNIT RUNOFF\n",
    "                      \n",
    "END"
   ]
  },
  {
   "cell_type": "markdown",
   "metadata": {},
   "source": [
    "Type Markdown and LaTeX:  𝛼2"
   ]
  },
  {
   "cell_type": "markdown",
   "metadata": {},
   "source": [
    "#### 3. Process customer record\n",
    "A program is required to read a customer’s name, a purchase amount and a tax code. The tax code has been validated and will be one of the following: 0 tax exempt (0%) 1 state sales tax only (3%) 2 federal and state sales tax (5%) 3 special sales tax (7%) The program must then compute the sales tax and the total amount due,and print the customer’s name, purchase amount, sales tax and total amount due."
   ]
  },
  {
   "cell_type": "code",
   "execution_count": 4,
   "metadata": {},
   "outputs": [
    {
     "ename": "IndentationError",
     "evalue": "unexpected indent (1412603134.py, line 3)",
     "output_type": "error",
     "traceback": [
      "\u001b[0;36m  Input \u001b[0;32mIn [4]\u001b[0;36m\u001b[0m\n\u001b[0;31m    PROMPT CUSTOMER NAME\u001b[0m\n\u001b[0m    ^\u001b[0m\n\u001b[0;31mIndentationError\u001b[0m\u001b[0;31m:\u001b[0m unexpected indent\n"
     ]
    }
   ],
   "source": [
    "BEGIN \n",
    "\n",
    " PROMPT CUSTOMER NAME\n",
    "    \n",
    "    GET NAME\n",
    "    \n",
    " Prompt Item number 1 (I1)\n",
    "\n",
    "    Get Item Name\n",
    "    \n",
    " Promt Number of Items\n",
    "\n",
    "    Get Item quantity IQ_1\n",
    "    \n",
    "    Calculate Purchase Amount(PA)\n",
    "    \n",
    "       PA_1 = IQ_1 * Item Price_1 \n",
    "        \n",
    "    Add PA_1 to Total\n",
    "    \n",
    " Prompt Item number 2 (I2)\n",
    "\n",
    "    Get Item Name\n",
    "    \n",
    " Promt Number of Items\n",
    "\n",
    "    Get Item quantity IQ_2\n",
    "    \n",
    "    Calculate Purchase Amount(PA)\n",
    "    \n",
    "       PA_2 = IQ_2 * Item Price_2 \n",
    "        \n",
    "    Add PA_2 to Total\n",
    "    .\n",
    "    .\n",
    "    .\n",
    " Prompt Item number n (In)\n",
    "\n",
    "    Get Item Name\n",
    "    \n",
    " Promt Number of Items\n",
    "\n",
    "    Get Item quantity IQ_n\n",
    "    \n",
    "    Calculate Purchase Amount(PA)\n",
    "    \n",
    "       PA_n = IQ_n * Item Price_n \n",
    "        \n",
    "    Add PA_n to Total\n",
    "    \n",
    " caculate Purchase Total = (PA_1 + PA_2 + PA_3 + ... + PA_n)\n",
    "      \n",
    " PROMPT TAX CODE\n",
    "\n",
    "    GET T\n",
    "    \n",
    "     IF T is 0\n",
    "        \n",
    "        set T_value to \"0\"\n",
    "        \n",
    "     ELSE IF T is 1 \n",
    "    \n",
    "        set T_value to \"0.03\"\n",
    "        \n",
    "     ELSE IF T is 2\n",
    "    \n",
    "        set T_value to \"0.05\"\n",
    "        \n",
    "     ELSE IF T is 3\n",
    "    \n",
    "        set T_value to \"0.07\"\n",
    "        \n",
    "     Else \n",
    "    \n",
    "        set T_value to \"Unknown\"\n",
    "        \n",
    " Sales_Tax = T * Purchase Total\n",
    "\n",
    " Print Customer name\n",
    "    \n",
    " Print Purchase amount = Purchase Total\n",
    "\n",
    " Print Sales_Tax\n",
    "    \n",
    " Print Total Amount due = Purchase Total + Sales_Tax\n",
    "\n",
    "END\n",
    " \n",
    "    "
   ]
  },
  {
   "cell_type": "markdown",
   "metadata": {},
   "source": [
    "Type Markdown and LaTeX:  𝛼2"
   ]
  },
  {
   "cell_type": "markdown",
   "metadata": {},
   "source": [
    "#### 4. Calculate employee's pay \n",
    "A program is required by a company to read an employee’s number, pay rate and the number of hours worked in a week. The program is then to validate the pay rate field and the hours worked field and, if valid, compute the employee’s weekly pay and then print it and the input data.\n",
    "\n",
    "Validation: According to the company’s rules, the maximum hours an employee can work per week is 60 hours, and the maximum hourly rate is $25.00 per hour. If the hours worked field or the hourly rate field is out of range, the input data and an appropriate message are to be printed and the employee’s weekly pay is not to be calculated.\n",
    "\n",
    "Weekly pay calculation: Weekly pay is calculated as hours worked times pay rate. If more than 35 hours are worked, payment for the overtime hours worked is calculated at time-and-a-half."
   ]
  },
  {
   "cell_type": "markdown",
   "metadata": {},
   "source": [
    "BEGIN\n",
    "\n",
    "  Prompt Employees number\n",
    "    \n",
    "    Get number\n",
    "    \n",
    "  Prompt Number of hours worked in a week\n",
    "  \n",
    "    Get Number of hours worked\n",
    "    \n",
    "      IF Number of hours worked (Hrs) > 35\n",
    "      \n",
    "        Total Number of hour worked = 1.5 * Hrs\n",
    "        \n",
    "      ELSE \n",
    "      \n",
    "        Total Number of hours worked (Hrs) = 1 * Hrs\n",
    "        \n",
    "  Prompt Pay rate\n",
    "  \n",
    "    Loop Pay_rate <= 25\n",
    "    \n",
    "      Calculate Employees Weekly Pay = Pay rate * Total number of hours worked\n",
    "      \n",
    "    ENDLOOP\n",
    "    \n",
    "      Print Employee number \n",
    "      \n",
    "      Print Total Number of hours worked in a week\n",
    "      \n",
    "      Print Employee Pay rate\n",
    "      \n",
    "      Print Employee weekly Pay\n",
    "      \n",
    "    IF Pay_rate > 25\n",
    "    \n",
    "        Print Employee number \n",
    "        \n",
    "        Print Total number of hours worked in a week\n",
    "        \n",
    "        Print Employee Pay rate\n",
    "      \n",
    "   \n",
    "END"
   ]
  }
 ],
 "metadata": {
  "kernelspec": {
   "display_name": "Python 3 (ipykernel)",
   "language": "python",
   "name": "python3"
  },
  "language_info": {
   "codemirror_mode": {
    "name": "ipython",
    "version": 3
   },
   "file_extension": ".py",
   "mimetype": "text/x-python",
   "name": "python",
   "nbconvert_exporter": "python",
   "pygments_lexer": "ipython3",
   "version": "3.9.12"
  }
 },
 "nbformat": 4,
 "nbformat_minor": 2
}
